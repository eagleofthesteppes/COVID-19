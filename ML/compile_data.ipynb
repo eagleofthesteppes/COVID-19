{
 "cells": [
  {
   "cell_type": "code",
   "execution_count": 1,
   "metadata": {},
   "outputs": [],
   "source": [
    "import os\n",
    "import csv\n",
    "import pandas as pd"
   ]
  },
  {
   "cell_type": "code",
   "execution_count": 6,
   "metadata": {},
   "outputs": [],
   "source": [
    "input_file = r'C:\\Users\\tarus\\Downloads\\COVID-19\\data\\OWID DataSet\\owid-covid-data-old.csv'\n",
    "output_folder = r'C:\\Users\\tarus\\Downloads\\COVID-19\\data\\OWID DataSet\\countrywise_data_owid_old'"
   ]
  },
  {
   "cell_type": "code",
   "execution_count": 7,
   "metadata": {},
   "outputs": [],
   "source": [
    "# Create a new folder for the countrywise data\n",
    "if not os.path.exists(output_folder):\n",
    "    os.makedirs(output_folder)\n",
    "\n",
    "# Open the master CSV file\n",
    "with open(input_file, 'r') as master_csv:\n",
    "    reader = csv.reader(master_csv)\n",
    "    header = next(reader) # Skip the header row\n",
    "    previous_location = header[2] # Initialize the previous location variable\n",
    "\n",
    "    # Loop through each row in the CSV file\n",
    "    for row in reader:\n",
    "        location = row[2]\n",
    "\n",
    "        # Create a new CSV file for this country if it doesn't already exist\n",
    "        country_csv = open(f'{output_folder}/{location}.csv', 'a')\n",
    "        writer = csv.writer(country_csv)\n",
    "\n",
    "        # Write the header row to the new CSV file (if necessary)\n",
    "        if location != previous_location:\n",
    "            writer.writerow(header)\n",
    "\n",
    "        # Write this row to the new CSV file\n",
    "        writer.writerow(row)\n",
    "\n",
    "        # Update the previous location\n",
    "        previous_location = location\n",
    "\n",
    "        # Close the current country CSV file\n",
    "        country_csv.close()"
   ]
  },
  {
   "cell_type": "code",
   "execution_count": 8,
   "metadata": {},
   "outputs": [],
   "source": [
    "folder_path = r'C:\\Users\\tarus\\Downloads\\COVID-19\\data\\OWID DataSet\\countrywise_data_owid_old'"
   ]
  },
  {
   "cell_type": "code",
   "execution_count": 9,
   "metadata": {},
   "outputs": [
    {
     "name": "stdout",
     "output_type": "stream",
     "text": [
      "Empty rows removed from all CSV files in the folder.\n"
     ]
    }
   ],
   "source": [
    "for filename in os.listdir(folder_path):\n",
    "    if filename.endswith('.csv'):\n",
    "        # Construct the full file path\n",
    "        file_path = os.path.join(folder_path, filename)\n",
    "        \n",
    "        # Read the CSV file into a DataFrame\n",
    "        df = pd.read_csv(file_path)\n",
    "        \n",
    "        # Drop rows where all elements are NaN (empty rows)\n",
    "        df_cleaned = df.dropna(how='all')\n",
    "        \n",
    "        # Save the cleaned DataFrame back to the same file\n",
    "        df_cleaned.to_csv(file_path, index=False)\n",
    "\n",
    "print(\"Empty rows removed from all CSV files in the folder.\")"
   ]
  },
  {
   "cell_type": "code",
   "execution_count": null,
   "metadata": {},
   "outputs": [],
   "source": []
  }
 ],
 "metadata": {
  "kernelspec": {
   "display_name": "Python 3",
   "language": "python",
   "name": "python3"
  },
  "language_info": {
   "codemirror_mode": {
    "name": "ipython",
    "version": 3
   },
   "file_extension": ".py",
   "mimetype": "text/x-python",
   "name": "python",
   "nbconvert_exporter": "python",
   "pygments_lexer": "ipython3",
   "version": "3.12.4"
  }
 },
 "nbformat": 4,
 "nbformat_minor": 2
}
